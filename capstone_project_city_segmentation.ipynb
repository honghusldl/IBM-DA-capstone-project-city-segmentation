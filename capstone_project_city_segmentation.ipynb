{
  "nbformat": 4,
  "nbformat_minor": 0,
  "metadata": {
    "colab": {
      "name": "capstone_project_city_segmentation.ipynb",
      "provenance": [],
      "authorship_tag": "ABX9TyOEZl1U+wiCwyGGvmBGdQWH",
      "include_colab_link": true
    },
    "kernelspec": {
      "name": "python3",
      "display_name": "Python 3"
    },
    "language_info": {
      "name": "python"
    }
  },
  "cells": [
    {
      "cell_type": "markdown",
      "metadata": {
        "id": "view-in-github",
        "colab_type": "text"
      },
      "source": [
        "<a href=\"https://colab.research.google.com/github/rize969946/capstone-project-city-segmentation/blob/main/capstone_project_city_segmentation.ipynb\" target=\"_parent\"><img src=\"https://colab.research.google.com/assets/colab-badge.svg\" alt=\"Open In Colab\"/></a>"
      ]
    },
    {
      "cell_type": "markdown",
      "metadata": {
        "id": "RYMJ3TFGx6PJ"
      },
      "source": [
        "Capstone project: analysis on location data"
      ]
    },
    {
      "cell_type": "markdown",
      "metadata": {
        "id": "aRnBWqHUx6kl"
      },
      "source": [
        "City segmentation and clustering based on segment features and infrastructures"
      ]
    },
    {
      "cell_type": "code",
      "metadata": {
        "id": "rNWKhKuEyHGM"
      },
      "source": [
        "import numpy as np\n",
        "import pandas as pd\n",
        "import matplotlib.pyplot as plt"
      ],
      "execution_count": 3,
      "outputs": []
    },
    {
      "cell_type": "code",
      "metadata": {
        "colab": {
          "base_uri": "https://localhost:8080/"
        },
        "id": "nCy_wXAdyMjq",
        "outputId": "90147485-89ea-45e0-f7fc-ae7a12af6e94"
      },
      "source": [
        "print(\"Hello Capstone Project Course!\")"
      ],
      "execution_count": 4,
      "outputs": [
        {
          "output_type": "stream",
          "text": [
            "Hello Capstone Project Course!\n"
          ],
          "name": "stdout"
        }
      ]
    }
  ]
}