{
  "nbformat": 4,
  "nbformat_minor": 0,
  "metadata": {
    "colab": {
      "name": "Introduction-capstone-project.ipynb",
      "provenance": [],
      "authorship_tag": "ABX9TyO1IgUT4vy4O070C7dMusVM",
      "include_colab_link": true
    },
    "kernelspec": {
      "name": "python3",
      "display_name": "Python 3"
    },
    "language_info": {
      "name": "python"
    }
  },
  "cells": [
    {
      "cell_type": "markdown",
      "metadata": {
        "id": "view-in-github",
        "colab_type": "text"
      },
      "source": [
        "<a href=\"https://colab.research.google.com/github/honghusldl/capstone-project-city-segmentation/blob/main/Introduction_capstone_project.ipynb\" target=\"_parent\"><img src=\"https://colab.research.google.com/assets/colab-badge.svg\" alt=\"Open In Colab\"/></a>"
      ]
    },
    {
      "cell_type": "markdown",
      "metadata": {
        "id": "BZ7e_DS2WELQ"
      },
      "source": [
        "# Introduction:"
      ]
    },
    {
      "cell_type": "markdown",
      "metadata": {
        "id": "rimtZnGWWJwf"
      },
      "source": [
        "The aim of this project is to find the best neighborhood in Toronto to open a new Chinese restaurant. In this project, we will utilize FourSquare API to retrieve location data and also explore venues in Toronto. We will analyze the neighborhoods by two types of clustering. Type I is clustering neighborhoods by speicific one venue category, Chinese restaurant, whereas Type II is clustering neighborhoods by all venue cateogories. Considering business people may make their decisions from different angle, I provide two means here. Type I clustering (Chinese restaurant only) focuses on competitive strength from Chinese restaurant specifically, while Type II clustering (all venues) emphasizes competition between all businesses."
      ]
    },
    {
      "cell_type": "markdown",
      "metadata": {
        "id": "pfiSfyTSWL2k"
      },
      "source": [
        "## Data Description:"
      ]
    },
    {
      "cell_type": "markdown",
      "metadata": {
        "id": "f046Z6i2WSCi"
      },
      "source": [
        "1: Basic Toronto data including Toronto's borough, neighborhoods, postal codes data from Wikipedia.\n",
        "Data sources: https://en.wikipedia.org/wiki/List_of_postal_codes_of_Canada:_M"
      ]
    },
    {
      "cell_type": "markdown",
      "metadata": {
        "id": "ZaUm2UTPWVq9"
      },
      "source": [
        "2: Geospatial data for Toronto's postal codes.\n",
        "Data sources:https://cocl.us/Geospatial_data. Data is retrieved by Geocoder package."
      ]
    },
    {
      "cell_type": "markdown",
      "metadata": {
        "id": "urNOtaOIWWwY"
      },
      "source": [
        "3: Toronto's venues data including venue name, venue geospatial information (latitude and longitude) and venue categories.\n",
        "Data is retrieved by FourSquare API with personal credentials."
      ]
    }
  ]
}