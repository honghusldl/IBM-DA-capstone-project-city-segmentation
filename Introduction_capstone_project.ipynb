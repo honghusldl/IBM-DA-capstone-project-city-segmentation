{
  "nbformat": 4,
  "nbformat_minor": 0,
  "metadata": {
    "colab": {
      "name": "Introduction-capstone-project.ipynb",
      "provenance": [],
      "collapsed_sections": [],
      "authorship_tag": "ABX9TyPQWG2jPKjTUpMZc/qCObwX",
      "include_colab_link": true
    },
    "kernelspec": {
      "name": "python3",
      "display_name": "Python 3"
    },
    "language_info": {
      "name": "python"
    }
  },
  "cells": [
    {
      "cell_type": "markdown",
      "metadata": {
        "id": "view-in-github",
        "colab_type": "text"
      },
      "source": [
        "<a href=\"https://colab.research.google.com/github/honghusldl/capstone-project-city-segmentation/blob/main/Introduction_capstone_project.ipynb\" target=\"_parent\"><img src=\"https://colab.research.google.com/assets/colab-badge.svg\" alt=\"Open In Colab\"/></a>"
      ]
    },
    {
      "cell_type": "markdown",
      "metadata": {
        "id": "BZ7e_DS2WELQ"
      },
      "source": [
        "# Introduction:"
      ]
    },
    {
      "cell_type": "markdown",
      "metadata": {
        "id": "wsp9o6WQ1rmB"
      },
      "source": [
        "Backgroud: Asian cuisine has been popular in Toronto for consumers. Specifically, Chinese cuisine has multiple traditions that are not completely introduced in Canada. The Eight Cuisines of China are Anhui, Guangdong, Fujian, Hunan, Jiangsu, Shandong, Sichuan, and Zhejiang cuisines. They have distinct but pleasant characteristics among entries, drinks and desserts. Therefore, it would be attractive to open up a new Chinese restaurant that provides one of the subtype of the Chinese cuisine. Besides, most Chinese restaurant in Canada are either hotpot or Yue. Having more and more options would also help the business to attract more consumers with their specialties."
      ]
    },
    {
      "cell_type": "markdown",
      "metadata": {
        "id": "rimtZnGWWJwf"
      },
      "source": [
        "The aim of this project is to find the best neighborhood in Toronto to open a new Chinese restaurant. In this project, we will utilize FourSquare API to retrieve location data and also explore venues in Toronto. We will analyze the neighborhoods by two types of clustering. Type I is clustering neighborhoods by speicific one venue category, Chinese restaurant, whereas Type II is clustering neighborhoods by all venue cateogories. Considering business people may make their decisions from different angle, I provide two means here. Type I clustering (Chinese restaurant only) focuses on competitive strength from Chinese restaurant specifically, while Type II clustering (all venues) emphasizes competition between all businesses."
      ]
    },
    {
      "cell_type": "markdown",
      "metadata": {
        "id": "pfiSfyTSWL2k"
      },
      "source": [
        "## Data Description:"
      ]
    },
    {
      "cell_type": "markdown",
      "metadata": {
        "id": "f046Z6i2WSCi"
      },
      "source": [
        "1: Basic Toronto data including Toronto's borough, neighborhoods, postal codes data from Wikipedia.\n",
        "Data sources: https://en.wikipedia.org/wiki/List_of_postal_codes_of_Canada:_M"
      ]
    },
    {
      "cell_type": "markdown",
      "metadata": {
        "id": "_pmIX-hG_Wkx"
      },
      "source": [
        "Example of the data"
      ]
    },
    {
      "cell_type": "code",
      "metadata": {
        "colab": {
          "base_uri": "https://localhost:8080/",
          "height": 205
        },
        "id": "HDembAhV_EHP",
        "outputId": "26d51df6-4575-41b2-ea19-20ce7a67c0db"
      },
      "source": [
        "import pandas as pd\n",
        "import requests\n",
        "from bs4 import BeautifulSoup\n",
        "toronto_url = \"https://en.wikipedia.org/wiki/List_of_postal_codes_of_Canada:_M\"\n",
        "html_data = requests.get(toronto_url).text\n",
        "toronto_soup = BeautifulSoup(html_data)\n",
        "\n",
        "# extract postalcode, borough and neighborhood from the table in the page\n",
        "# create a list containing dictinoary with 3 keys\n",
        "toronto_info = []\n",
        "table = toronto_soup.find('table')\n",
        "for row in table.findAll('td'):\n",
        "  cell={}\n",
        "  if row.span.text=='Not assigned':\n",
        "    pass\n",
        "  else:\n",
        "    cell['PostalCode']=row.p.text[:3]\n",
        "    cell['Borough']=(row.span.text).split('(')[0]\n",
        "    cell['Neighborhood'] = (((((row.span.text).split('(')[1]).strip(')')).replace(' /',',')).replace(')',' ')).strip(' ')\n",
        "    toronto_info.append(cell)\n",
        "\n",
        "# create a dataframe containing all neighborhood information\n",
        "df = pd.DataFrame(toronto_info)\n",
        "\n",
        "# replace names in borough\n",
        "df['Borough']=df['Borough'].replace({'Downtown TorontoStn A PO Boxes25 The Esplanade':'Downtown Toronto Stn A',\n",
        "                                             'East TorontoBusiness reply mail Processing Centre969 Eastern':'East Toronto Business',\n",
        "                                             'EtobicokeNorthwest':'Etobicoke Northwest','East YorkEast Toronto':'East York/East Toronto',\n",
        "                                             'MississaugaCanada Post Gateway Processing Centre':'Mississauga'})\n",
        "\n",
        "df.head()"
      ],
      "execution_count": 3,
      "outputs": [
        {
          "output_type": "execute_result",
          "data": {
            "text/html": [
              "<div>\n",
              "<style scoped>\n",
              "    .dataframe tbody tr th:only-of-type {\n",
              "        vertical-align: middle;\n",
              "    }\n",
              "\n",
              "    .dataframe tbody tr th {\n",
              "        vertical-align: top;\n",
              "    }\n",
              "\n",
              "    .dataframe thead th {\n",
              "        text-align: right;\n",
              "    }\n",
              "</style>\n",
              "<table border=\"1\" class=\"dataframe\">\n",
              "  <thead>\n",
              "    <tr style=\"text-align: right;\">\n",
              "      <th></th>\n",
              "      <th>PostalCode</th>\n",
              "      <th>Borough</th>\n",
              "      <th>Neighborhood</th>\n",
              "    </tr>\n",
              "  </thead>\n",
              "  <tbody>\n",
              "    <tr>\n",
              "      <th>0</th>\n",
              "      <td>M3A</td>\n",
              "      <td>North York</td>\n",
              "      <td>Parkwoods</td>\n",
              "    </tr>\n",
              "    <tr>\n",
              "      <th>1</th>\n",
              "      <td>M4A</td>\n",
              "      <td>North York</td>\n",
              "      <td>Victoria Village</td>\n",
              "    </tr>\n",
              "    <tr>\n",
              "      <th>2</th>\n",
              "      <td>M5A</td>\n",
              "      <td>Downtown Toronto</td>\n",
              "      <td>Regent Park, Harbourfront</td>\n",
              "    </tr>\n",
              "    <tr>\n",
              "      <th>3</th>\n",
              "      <td>M6A</td>\n",
              "      <td>North York</td>\n",
              "      <td>Lawrence Manor, Lawrence Heights</td>\n",
              "    </tr>\n",
              "    <tr>\n",
              "      <th>4</th>\n",
              "      <td>M7A</td>\n",
              "      <td>Queen's Park</td>\n",
              "      <td>Ontario Provincial Government</td>\n",
              "    </tr>\n",
              "  </tbody>\n",
              "</table>\n",
              "</div>"
            ],
            "text/plain": [
              "  PostalCode           Borough                      Neighborhood\n",
              "0        M3A        North York                         Parkwoods\n",
              "1        M4A        North York                  Victoria Village\n",
              "2        M5A  Downtown Toronto         Regent Park, Harbourfront\n",
              "3        M6A        North York  Lawrence Manor, Lawrence Heights\n",
              "4        M7A      Queen's Park     Ontario Provincial Government"
            ]
          },
          "metadata": {
            "tags": []
          },
          "execution_count": 3
        }
      ]
    },
    {
      "cell_type": "markdown",
      "metadata": {
        "id": "ZaUm2UTPWVq9"
      },
      "source": [
        "2: Geospatial data for Toronto's postal codes.\n",
        "Data sources:https://cocl.us/Geospatial_data. Data is retrieved by Geocoder package."
      ]
    },
    {
      "cell_type": "markdown",
      "metadata": {
        "id": "LeFmA2Ar_ZVF"
      },
      "source": [
        "Example of the data"
      ]
    },
    {
      "cell_type": "code",
      "metadata": {
        "colab": {
          "base_uri": "https://localhost:8080/",
          "height": 205
        },
        "id": "qXKSRI2h_bcw",
        "outputId": "93152918-8edd-4983-f447-9429589a1267"
      },
      "source": [
        "df_coord = pd.read_csv('https://cocl.us/Geospatial_data')\n",
        "df_coord.columns=['PostalCode','Latitude','Longitude']\n",
        "df_coord.head()"
      ],
      "execution_count": 4,
      "outputs": [
        {
          "output_type": "execute_result",
          "data": {
            "text/html": [
              "<div>\n",
              "<style scoped>\n",
              "    .dataframe tbody tr th:only-of-type {\n",
              "        vertical-align: middle;\n",
              "    }\n",
              "\n",
              "    .dataframe tbody tr th {\n",
              "        vertical-align: top;\n",
              "    }\n",
              "\n",
              "    .dataframe thead th {\n",
              "        text-align: right;\n",
              "    }\n",
              "</style>\n",
              "<table border=\"1\" class=\"dataframe\">\n",
              "  <thead>\n",
              "    <tr style=\"text-align: right;\">\n",
              "      <th></th>\n",
              "      <th>PostalCode</th>\n",
              "      <th>Latitude</th>\n",
              "      <th>Longitude</th>\n",
              "    </tr>\n",
              "  </thead>\n",
              "  <tbody>\n",
              "    <tr>\n",
              "      <th>0</th>\n",
              "      <td>M1B</td>\n",
              "      <td>43.806686</td>\n",
              "      <td>-79.194353</td>\n",
              "    </tr>\n",
              "    <tr>\n",
              "      <th>1</th>\n",
              "      <td>M1C</td>\n",
              "      <td>43.784535</td>\n",
              "      <td>-79.160497</td>\n",
              "    </tr>\n",
              "    <tr>\n",
              "      <th>2</th>\n",
              "      <td>M1E</td>\n",
              "      <td>43.763573</td>\n",
              "      <td>-79.188711</td>\n",
              "    </tr>\n",
              "    <tr>\n",
              "      <th>3</th>\n",
              "      <td>M1G</td>\n",
              "      <td>43.770992</td>\n",
              "      <td>-79.216917</td>\n",
              "    </tr>\n",
              "    <tr>\n",
              "      <th>4</th>\n",
              "      <td>M1H</td>\n",
              "      <td>43.773136</td>\n",
              "      <td>-79.239476</td>\n",
              "    </tr>\n",
              "  </tbody>\n",
              "</table>\n",
              "</div>"
            ],
            "text/plain": [
              "  PostalCode   Latitude  Longitude\n",
              "0        M1B  43.806686 -79.194353\n",
              "1        M1C  43.784535 -79.160497\n",
              "2        M1E  43.763573 -79.188711\n",
              "3        M1G  43.770992 -79.216917\n",
              "4        M1H  43.773136 -79.239476"
            ]
          },
          "metadata": {
            "tags": []
          },
          "execution_count": 4
        }
      ]
    },
    {
      "cell_type": "markdown",
      "metadata": {
        "id": "urNOtaOIWWwY"
      },
      "source": [
        "3: Toronto's venues data including venue name, venue geospatial information (latitude and longitude) and venue categories.\n",
        "Data is retrieved by FourSquare API with personal credentials."
      ]
    },
    {
      "cell_type": "markdown",
      "metadata": {
        "id": "JVSBySM-_r5d"
      },
      "source": [
        "Example of the venues data"
      ]
    },
    {
      "cell_type": "markdown",
      "metadata": {
        "id": "uoaXlhIL_ocB"
      },
      "source": [
        "![image.png](data:image/png;base64,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)"
      ]
    }
  ]
}